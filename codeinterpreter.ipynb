{
  "cells": [
    {
      "cell_type": "code",
      "execution_count": 41,
      "metadata": {
        "colab": {
          "base_uri": "https://localhost:8080/"
        },
        "id": "t9IANwMrQyAy",
        "outputId": "24964633-7baf-431e-f33d-96a75d642633"
      },
      "outputs": [
        {
          "name": "stdout",
          "output_type": "stream",
          "text": [
            "Requirement already satisfied: openai in /usr/local/lib/python3.10/dist-packages (1.30.3)\n",
            "Requirement already satisfied: anyio<5,>=3.5.0 in /usr/local/lib/python3.10/dist-packages (from openai) (3.7.1)\n",
            "Requirement already satisfied: distro<2,>=1.7.0 in /usr/lib/python3/dist-packages (from openai) (1.7.0)\n",
            "Requirement already satisfied: httpx<1,>=0.23.0 in /usr/local/lib/python3.10/dist-packages (from openai) (0.27.0)\n",
            "Requirement already satisfied: pydantic<3,>=1.9.0 in /usr/local/lib/python3.10/dist-packages (from openai) (2.7.1)\n",
            "Requirement already satisfied: sniffio in /usr/local/lib/python3.10/dist-packages (from openai) (1.3.1)\n",
            "Requirement already satisfied: tqdm>4 in /usr/local/lib/python3.10/dist-packages (from openai) (4.66.4)\n",
            "Requirement already satisfied: typing-extensions<5,>=4.7 in /usr/local/lib/python3.10/dist-packages (from openai) (4.11.0)\n",
            "Requirement already satisfied: idna>=2.8 in /usr/local/lib/python3.10/dist-packages (from anyio<5,>=3.5.0->openai) (3.7)\n",
            "Requirement already satisfied: exceptiongroup in /usr/local/lib/python3.10/dist-packages (from anyio<5,>=3.5.0->openai) (1.2.1)\n",
            "Requirement already satisfied: certifi in /usr/local/lib/python3.10/dist-packages (from httpx<1,>=0.23.0->openai) (2024.2.2)\n",
            "Requirement already satisfied: httpcore==1.* in /usr/local/lib/python3.10/dist-packages (from httpx<1,>=0.23.0->openai) (1.0.5)\n",
            "Requirement already satisfied: h11<0.15,>=0.13 in /usr/local/lib/python3.10/dist-packages (from httpcore==1.*->httpx<1,>=0.23.0->openai) (0.14.0)\n",
            "Requirement already satisfied: annotated-types>=0.4.0 in /usr/local/lib/python3.10/dist-packages (from pydantic<3,>=1.9.0->openai) (0.7.0)\n",
            "Requirement already satisfied: pydantic-core==2.18.2 in /usr/local/lib/python3.10/dist-packages (from pydantic<3,>=1.9.0->openai) (2.18.2)\n"
          ]
        }
      ],
      "source": [
        "!pip install openai --upgrade\n",
        "\n"
      ]
    },
    {
      "cell_type": "code",
      "execution_count": 42,
      "metadata": {
        "id": "I49j1IBWRomb"
      },
      "outputs": [],
      "source": [
        "from openai import OpenAI\n",
        "client = OpenAI()"
      ]
    },
    {
      "cell_type": "code",
      "execution_count": 44,
      "metadata": {
        "id": "jTWXMx6RMXV8"
      },
      "outputs": [],
      "source": [
        "filename = \"world_df.csv\"\n",
        "assistant_name = \"data-analyst-v0.1\""
      ]
    },
    {
      "cell_type": "code",
      "execution_count": 56,
      "metadata": {
        "id": "iMl5wKCxzPyG"
      },
      "outputs": [],
      "source": [
        "# Check if file is already uploaded\n",
        "filelist = client.files.list(purpose=\"assistants\")\n",
        "filenames =  [x.filename for x in filelist.data]\n",
        "file_uploaded = True if filename in filenames else False\n",
        "\n",
        "# Upload a file with an \"assistants\" purpose or use existing one\n",
        "if not file_uploaded:\n",
        "  file = client.files.create(\n",
        "    file=open(filename, \"rb\"),\n",
        "    purpose='assistants'\n",
        "  )\n",
        "else:\n",
        "  for f in filelist:\n",
        "    if f.filename == filename:\n",
        "      file = client.files.retrieve(f.id)\n",
        "      break"
      ]
    },
    {
      "cell_type": "code",
      "execution_count": 59,
      "metadata": {
        "id": "SfDU-XobSe4I"
      },
      "outputs": [],
      "source": [
        "\n",
        "\n",
        "# Check if assistant already exists\n",
        "assistant_list = client.beta.assistants.list()\n",
        "assistant_names =  [x.name for x in assistant_list.data]\n",
        "assistant_exists = True if assistant_name in assistant_names else False\n",
        "\n",
        "if not assistant_exists:\n",
        "  # Create an assistant using the file ID\n",
        "  assistant = client.beta.assistants.create(\n",
        "    name = \"data-analyst-v0.1\",\n",
        "    instructions=\"You are a data analyst\",\n",
        "    model=\"gpt-4o\",\n",
        "    tools=[{\"type\": \"code_interpreter\"}],\n",
        "    tool_resources={\n",
        "      \"code_interpreter\": {\n",
        "        \"file_ids\": [file.id]\n",
        "      }\n",
        "    }\n",
        "  )\n",
        "else:\n",
        "    for a in assistant_list:\n",
        "      if a.name == assistant_name:\n",
        "        assistant = client.beta.assistants.retrieve(a.id)\n",
        "        break\n",
        "\n"
      ]
    },
    {
      "cell_type": "code",
      "execution_count": 60,
      "metadata": {
        "id": "SaZNXUVbSTxo"
      },
      "outputs": [],
      "source": [
        "thread = client.beta.threads.create(\n",
        "  messages=[\n",
        "    {\n",
        "      \"role\": \"user\",\n",
        "      \"content\": \"Using the csv file attached, display a graph of 'Year' against 'Anuual CO2 emissions\",\n",
        "      \"attachments\": [\n",
        "        {\n",
        "          \"file_id\": file.id,\n",
        "          \"tools\": [{\"type\": \"code_interpreter\"}]\n",
        "        }\n",
        "      ]\n",
        "    }\n",
        "  ]\n",
        ")"
      ]
    },
    {
      "cell_type": "code",
      "execution_count": 48,
      "metadata": {
        "colab": {
          "base_uri": "https://localhost:8080/"
        },
        "id": "zLX2vJahWGrP",
        "outputId": "74c99c37-be53-4c0a-d8a2-965eebbc8124"
      },
      "outputs": [
        {
          "name": "stdout",
          "output_type": "stream",
          "text": [
            "\n",
            "assistant > code_interpreter\n",
            "\n",
            "import pandas as pd\n",
            "\n",
            "# Load the file\n",
            "file_path = '/mnt/data/file-BbviDPC80gnq8Qbw35ARYzmP'\n",
            "df = pd.read_csv(file_path)\n",
            "\n",
            "# Display the first few rows of the dataframe\n",
            "df.head()\n",
            "\n",
            "output >\n",
            "\n",
            "  Entity      Code  Year  Annual CO₂ emissions  \\\n",
            "0  World  OWID_WRL  1850           196896030.0   \n",
            "1  World  OWID_WRL  1851           198804980.0   \n",
            "2  World  OWID_WRL  1852           207550940.0   \n",
            "3  World  OWID_WRL  1853           217209250.0   \n",
            "4  World  OWID_WRL  1854           255138980.0   \n",
            "\n",
            "   Annual CO₂ emissions including land-use change  \\\n",
            "0                                    2.621609e+09   \n",
            "1                                    2.711943e+09   \n",
            "2                                    2.758550e+09   \n",
            "3                                    2.825733e+09   \n",
            "4                                    2.886013e+09   \n",
            "\n",
            "   Annual CO₂ emissions from land-use change  \n",
            "0                               2.424713e+09  \n",
            "1                               2.513138e+09  \n",
            "2                               2.550999e+09  \n",
            "3                               2.608524e+09  \n",
            "4                               2.630874e+09  \n",
            "import matplotlib.pyplot as plt\n",
            "\n",
            "# Plot 'Year' against 'Annual CO₂ emissions'\n",
            "plt.figure(figsize=(10, 6))\n",
            "plt.plot(df['Year'], df['Annual CO₂ emissions'], marker='o')\n",
            "plt.title(\"Annual CO2 Emissions Over Time\")\n",
            "plt.xlabel(\"Year\")\n",
            "plt.ylabel(\"Annual CO2 Emissions\")\n",
            "plt.grid(True)\n",
            "plt.savefig('/mnt/data/annual_co2_emissions.png')\n",
            "plt.show()\n",
            "\n",
            "output >\n",
            "\n",
            "assistant > The graph illustrating the trend of annual CO2 emissions over the years has been generated. You can download the image using the link below:\n",
            "\n",
            "[Download the image](sandbox:/mnt/data/annual_co2_emissions.png)None"
          ]
        }
      ],
      "source": [
        "from typing_extensions import override\n",
        "from openai import AssistantEventHandler\n",
        "\n",
        "# First, we create a EventHandler class to define\n",
        "# how we want to handle the events in the response stream.\n",
        "\n",
        "class EventHandler(AssistantEventHandler):\n",
        "  @override\n",
        "  def on_text_created(self, text) -> None:\n",
        "    print(f\"\\nassistant > \", end=\"\", flush=True)\n",
        "\n",
        "  @override\n",
        "  def on_text_delta(self, delta, snapshot):\n",
        "    print(delta.value, end=\"\", flush=True)\n",
        "\n",
        "  def on_tool_call_created(self, tool_call):\n",
        "    print(f\"\\nassistant > {tool_call.type}\\n\", flush=True)\n",
        "\n",
        "  def on_tool_call_delta(self, delta, snapshot):\n",
        "    if delta.type == 'code_interpreter':\n",
        "      if delta.code_interpreter.input:\n",
        "        print(delta.code_interpreter.input, end=\"\", flush=True)\n",
        "      if delta.code_interpreter.outputs:\n",
        "        print(f\"\\n\\noutput >\", flush=True)\n",
        "        for output in delta.code_interpreter.outputs:\n",
        "          if output.type == \"logs\":\n",
        "            print(f\"\\n{output.logs}\", flush=True)\n",
        "\n",
        "# Then, we use the `stream` SDK helper\n",
        "# with the `EventHandler` class to create the Run\n",
        "# and stream the response.\n",
        "\n",
        "with client.beta.threads.runs.stream(\n",
        "  thread_id=thread.id,\n",
        "  assistant_id=assistant.id,\n",
        "  instructions=\"create a downloadable file for the graph\",\n",
        "  event_handler=EventHandler(),\n",
        ") as stream:\n",
        "  stream.until_done()"
      ]
    },
    {
      "cell_type": "code",
      "execution_count": 75,
      "metadata": {
        "colab": {
          "base_uri": "https://localhost:8080/"
        },
        "id": "vhZ67Ux9-pp1",
        "outputId": "cf20c031-6432-46f7-b4f9-6c7be7eb0517"
      },
      "outputs": [
        {
          "name": "stdout",
          "output_type": "stream",
          "text": [
            "SyncCursorPage[Message](data=[Message(id='msg_IIZUP7Sw273w3YkCUtJkJLzr', assistant_id=None, attachments=[Attachment(file_id='file-xdEC98eCXjTGOW8rFIufPUrg', tools=[CodeInterpreterTool(type='code_interpreter')])], completed_at=None, content=[TextContentBlock(text=Text(annotations=[], value=\"Using the csv file attached, display a graph of 'Year' against 'Anuual CO2 emissions\"), type='text')], created_at=1716743317, incomplete_at=None, incomplete_details=None, metadata={}, object='thread.message', role='user', run_id=None, status=None, thread_id='thread_o1rJUgzNyf7mhB9KeC8nrDcC')], object='list', first_id='msg_IIZUP7Sw273w3YkCUtJkJLzr', last_id='msg_IIZUP7Sw273w3YkCUtJkJLzr', has_more=False)\n"
          ]
        }
      ],
      "source": [
        "import time\n",
        "# Poll a run until it has completed\n",
        "# This code is copied directly from the OpenAI Cookbook (MIT Licence).\n",
        "def wait_on_run(run, thread):\n",
        "    while run.status == \"queued\" or run.status == \"in_progress\":\n",
        "        run = client.beta.threads.runs.retrieve(\n",
        "            thread_id=thread.id,\n",
        "            run_id=run.id,\n",
        "        )\n",
        "        time.sleep(0.5)\n",
        "    return run\n",
        "messages = client.beta.threads.messages.list(thread_id=thread.id)\n",
        "print(messages)\n"
      ]
    },
    {
      "cell_type": "code",
      "execution_count": 73,
      "metadata": {
        "colab": {
          "base_uri": "https://localhost:8080/"
        },
        "id": "QAAkOi8g8SYp",
        "outputId": "d9260b3b-6ee4-4101-f04e-6a2338b7b2aa"
      },
      "outputs": [
        {
          "name": "stdout",
          "output_type": "stream",
          "text": [
            "[Message(id='msg_IIZUP7Sw273w3YkCUtJkJLzr', assistant_id=None, attachments=[Attachment(file_id='file-xdEC98eCXjTGOW8rFIufPUrg', tools=[CodeInterpreterTool(type='code_interpreter')])], completed_at=None, content=[TextContentBlock(text=Text(annotations=[], value=\"Using the csv file attached, display a graph of 'Year' against 'Anuual CO2 emissions\"), type='text')], created_at=1716743317, incomplete_at=None, incomplete_details=None, metadata={}, object='thread.message', role='user', run_id=None, status=None, thread_id='thread_o1rJUgzNyf7mhB9KeC8nrDcC')]\n"
          ]
        }
      ],
      "source": [
        "print(client.beta.threads.messages.list(thread.id).data)"
      ]
    },
    {
      "cell_type": "code",
      "execution_count": 49,
      "metadata": {
        "id": "4RLlfieUcZA5"
      },
      "outputs": [],
      "source": [
        "filelist = client.files.list(purpose=\"assistants_output\")"
      ]
    },
    {
      "cell_type": "code",
      "execution_count": 50,
      "metadata": {
        "id": "iVXKbRpXg2sJ"
      },
      "outputs": [],
      "source": [
        "image_list = [x for x in filelist.data if \"png\" in x.filename]"
      ]
    },
    {
      "cell_type": "code",
      "execution_count": 51,
      "metadata": {
        "id": "Qsj5O6ANhj_r"
      },
      "outputs": [],
      "source": [
        "id = image_list[-1].id # the last in the list is the latest"
      ]
    },
    {
      "cell_type": "markdown",
      "metadata": {
        "id": "HD3cHnnvhf_w"
      },
      "source": []
    },
    {
      "cell_type": "markdown",
      "metadata": {
        "id": "XME0YNBThfy4"
      },
      "source": []
    },
    {
      "cell_type": "code",
      "execution_count": 52,
      "metadata": {
        "colab": {
          "base_uri": "https://localhost:8080/",
          "height": 36
        },
        "id": "Ixkef7F3gcZB",
        "outputId": "473471b6-f71f-4198-d868-89a26ad47d6f"
      },
      "outputs": [
        {
          "data": {
            "application/vnd.google.colaboratory.intrinsic+json": {
              "type": "string"
            },
            "text/plain": [
              "'file-T3Ixnm4mpvaWDrdtig9BbswE'"
            ]
          },
          "execution_count": 52,
          "metadata": {},
          "output_type": "execute_result"
        }
      ],
      "source": [
        "id"
      ]
    },
    {
      "cell_type": "code",
      "execution_count": 53,
      "metadata": {
        "colab": {
          "base_uri": "https://localhost:8080/"
        },
        "id": "tLxcY_j1duaJ",
        "outputId": "0c0c4ca8-b334-4a59-da08-ff83f3ace66a"
      },
      "outputs": [
        {
          "data": {
            "text/plain": [
              "FileObject(id='file-T3Ixnm4mpvaWDrdtig9BbswE', bytes=108251, created_at=1716726960, filename='/mnt/data/annual_co2_emissions.png', object='file', purpose='assistants_output', status='processed', status_details=None)"
            ]
          },
          "execution_count": 53,
          "metadata": {},
          "output_type": "execute_result"
        }
      ],
      "source": [
        "client.files.retrieve(id)"
      ]
    },
    {
      "cell_type": "code",
      "execution_count": 54,
      "metadata": {
        "id": "zRxUxx2kT2F9"
      },
      "outputs": [],
      "source": [
        "image_data = client.files.content(id)\n",
        "image_data_bytes = image_data.read()\n",
        "\n",
        "with open(\"./my-image.png\", \"wb\") as file:\n",
        "    file.write(image_data_bytes)"
      ]
    },
    {
      "cell_type": "code",
      "execution_count": 54,
      "metadata": {
        "id": "uuS1yzQwT6sW"
      },
      "outputs": [],
      "source": []
    }
  ],
  "metadata": {
    "colab": {
      "provenance": []
    },
    "kernelspec": {
      "display_name": "Python 3",
      "name": "python3"
    },
    "language_info": {
      "name": "python"
    }
  },
  "nbformat": 4,
  "nbformat_minor": 0
}
