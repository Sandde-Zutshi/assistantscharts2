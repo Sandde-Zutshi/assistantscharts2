{
  "cells": [
    {
      "cell_type": "code",
      "execution_count": 171,
      "metadata": {
        "id": "I49j1IBWRomb"
      },
      "outputs": [],
      "source": [
        "from openai import OpenAI\n",
        "\n",
        "key = input(\"API key\")\n",
        "client = OpenAI(api_key=key)"
      ]
    },
    {
      "cell_type": "code",
      "execution_count": 172,
      "metadata": {
        "id": "jTWXMx6RMXV8"
      },
      "outputs": [],
      "source": [
        "filename = \"world_df.csv\"\n",
        "assistant_name = \"data-analyst-v0.1\""
      ]
    },
    {
      "cell_type": "code",
      "execution_count": 173,
      "metadata": {
        "id": "iMl5wKCxzPyG"
      },
      "outputs": [],
      "source": [
        "# Check if file is already uploaded\n",
        "filelist = client.files.list(purpose=\"assistants\")\n",
        "filenames =  [x.filename for x in filelist.data]\n",
        "\n",
        "# Upload a file with an \"assistants\" purpose or use existing one\n",
        "if not filename in filenames:\n",
        "  file = client.files.create(\n",
        "    file=open(filename, \"rb\"),\n",
        "    purpose='assistants'\n",
        "  )\n",
        "else:\n",
        "  for f in filelist:\n",
        "    if f.filename == filename:\n",
        "      file = client.files.retrieve(f.id)\n",
        "      break"
      ]
    },
    {
      "cell_type": "code",
      "execution_count": 174,
      "metadata": {
        "id": "SfDU-XobSe4I"
      },
      "outputs": [],
      "source": [
        "\n",
        "\n",
        "# Check if assistant already exists\n",
        "assistant_list = client.beta.assistants.list()\n",
        "assistant_names =  [x.name for x in assistant_list.data]\n",
        "assistant_exists = True if assistant_name in assistant_names else False\n",
        "\n",
        "if not assistant_exists:\n",
        "  # Create an assistant using the file ID\n",
        "  assistant = client.beta.assistants.create(\n",
        "    name = \"data-analyst-v0.1\",\n",
        "    instructions=\"You are a data analyst\",\n",
        "    model=\"gpt-4o\",\n",
        "    tools=[{\"type\": \"code_interpreter\"}],\n",
        "    tool_resources={\n",
        "      \"code_interpreter\": {\n",
        "        \"file_ids\": [file.id]\n",
        "      }\n",
        "    }\n",
        "  )\n",
        "else:\n",
        "    for a in assistant_list:\n",
        "      if a.name == assistant_name:\n",
        "        assistant = client.beta.assistants.retrieve(a.id)\n",
        "        break\n",
        "\n"
      ]
    },
    {
      "cell_type": "code",
      "execution_count": 175,
      "metadata": {},
      "outputs": [],
      "source": [
        "prompt = \"Using the csv file attached, display a graph of 'Year' against 'Anuual CO2 emissions\"\n",
        "prompt = \"Using the csv file attached, display a graph of 'Year' against all other columns\"\n",
        "prompt = \"Using the csv file attached, display a graph of 'Year' against all other columns. Only chart the figures for the 21st century\""
      ]
    },
    {
      "cell_type": "code",
      "execution_count": 176,
      "metadata": {
        "id": "SaZNXUVbSTxo"
      },
      "outputs": [],
      "source": [
        "thread = client.beta.threads.create(\n",
        "  messages=[\n",
        "    {\n",
        "      \"role\": \"user\",\n",
        "      \"content\": prompt,\n",
        "      \"attachments\": [\n",
        "        {\n",
        "          \"file_id\": file.id,\n",
        "          \"tools\": [{\"type\": \"code_interpreter\"}]\n",
        "        }\n",
        "      ]\n",
        "    }\n",
        "  ]\n",
        ")"
      ]
    },
    {
      "cell_type": "code",
      "execution_count": 177,
      "metadata": {},
      "outputs": [],
      "source": [
        "image_file_name = \"my-image.png\"\n",
        "image_file_name = \"my-image2.png\"\n",
        "image_file_name = \"my-image3.png\"\n"
      ]
    },
    {
      "cell_type": "code",
      "execution_count": 178,
      "metadata": {
        "colab": {
          "base_uri": "https://localhost:8080/"
        },
        "id": "zLX2vJahWGrP",
        "outputId": "74c99c37-be53-4c0a-d8a2-965eebbc8124"
      },
      "outputs": [
        {
          "name": "stdout",
          "output_type": "stream",
          "text": [
            "\n",
            "assistant > code_interpreter\n",
            "\n",
            "import pandas as pd\n",
            "\n",
            "# Load the CSV file\n",
            "file_path = '/mnt/data/file-8XwqMOlaH6hoKEEKOYXPYqTh'\n",
            "data = pd.read_csv(file_path)\n",
            "\n",
            "# Display the first few rows of the dataframe to understand its structure\n",
            "data.head()import matplotlib.pyplot as plt\n",
            "\n",
            "# Filter the data to include only the 21st century (from year 2000 onwards)\n",
            "data_21st_century = data[data['Year'] >= 2000]\n",
            "\n",
            "# Define the columns to be plotted against 'Year'\n",
            "columns_to_plot = data.columns.drop(['Entity', 'Code', 'Year'])\n",
            "\n",
            "# Plot the data\n",
            "plt.figure(figsize=(12, 8))\n",
            "for column in columns_to_plot:\n",
            "    plt.plot(data_21st_century['Year'], data_21st_century[column], label=column)\n",
            "\n",
            "plt.title('Yearly Data in the 21st Century')\n",
            "plt.xlabel('Year')\n",
            "plt.ylabel('Values')\n",
            "plt.legend(title='Metrics', bbox_to_anchor=(1.05, 1), loc='upper left')\n",
            "plt.grid(True)\n",
            "plt.tight_layout()\n",
            "\n",
            "# Save the plot to a file\n",
            "plot_file_path = '/mnt/data/my-image3.png'\n",
            "plt.savefig(plot_file_path)\n",
            "\n",
            "plt.show()\n",
            "\n",
            "plot_file_path\n",
            "\n",
            "output >\n",
            "\n",
            "assistant > The graph has been created and saved successfully. You can download the file using the link below:\n",
            "\n",
            "[Download the graph](sandbox:/mnt/data/my-image3.png)None"
          ]
        }
      ],
      "source": [
        "from typing_extensions import override\n",
        "from openai import AssistantEventHandler\n",
        "\n",
        "# First, we create a EventHandler class to define\n",
        "# how we want to handle the events in the response stream.\n",
        "\n",
        "class EventHandler(AssistantEventHandler):\n",
        "  @override\n",
        "  def on_text_created(self, text) -> None:\n",
        "    print(f\"\\nassistant > {text.value}\", end=\"\", flush=True)\n",
        "\n",
        "  @override\n",
        "  def on_text_delta(self, delta, snapshot):\n",
        "    print(delta.value, end=\"\", flush=True)\n",
        "\n",
        "  def on_tool_call_created(self, tool_call):\n",
        "    print(f\"\\nassistant > {tool_call.type}\\n\", flush=True)\n",
        "\n",
        "  def on_tool_call_delta(self, delta, snapshot):\n",
        "    if delta.type == 'code_interpreter':\n",
        "      if delta.code_interpreter.input:\n",
        "        print(delta.code_interpreter.input, end=\"\", flush=True)\n",
        "      if delta.code_interpreter.outputs:\n",
        "        print(f\"\\n\\noutput >\", flush=True)\n",
        "        for output in delta.code_interpreter.outputs:\n",
        "          if output.type == \"logs\":\n",
        "            print(f\"\\n{output.logs}\", flush=True)\n",
        "\n",
        "# Then, we use the `stream` SDK helper\n",
        "# with the `EventHandler` class to create the Run\n",
        "# and stream the response.\n",
        "\n",
        "with client.beta.threads.runs.stream(\n",
        "  thread_id=thread.id,\n",
        "  assistant_id=assistant.id,\n",
        "  instructions=f\"create a downloadable file for the graph called {image_file_name}\",\n",
        "  event_handler=EventHandler(),\n",
        ") as stream:\n",
        "  stream.until_done()"
      ]
    },
    {
      "cell_type": "code",
      "execution_count": 179,
      "metadata": {
        "colab": {
          "base_uri": "https://localhost:8080/"
        },
        "id": "vhZ67Ux9-pp1",
        "outputId": "cf20c031-6432-46f7-b4f9-6c7be7eb0517"
      },
      "outputs": [
        {
          "data": {
            "text/plain": [
              "'\\nrun = client.beta.threads.runs.create_and_poll(\\n  thread_id=thread.id,\\n  assistant_id=assistant.id,\\n  instructions=\"create a downloadable file for the graph.\"\\n)\\n\\n'"
            ]
          },
          "execution_count": 179,
          "metadata": {},
          "output_type": "execute_result"
        }
      ],
      "source": [
        "\"\"\"\n",
        "run = client.beta.threads.runs.create_and_poll(\n",
        "  thread_id=thread.id,\n",
        "  assistant_id=assistant.id,\n",
        "  instructions=\"create a downloadable file for the graph.\"\n",
        ")\n",
        "\n",
        "\"\"\""
      ]
    },
    {
      "cell_type": "code",
      "execution_count": 180,
      "metadata": {},
      "outputs": [
        {
          "data": {
            "text/plain": [
              "\"\\nif run.status == 'completed': \\n  messages = client.beta.threads.messages.list(\\n    thread_id=thread.id\\n  )\\n  print(messages)\\nelse:\\n  print(run.status)\\n\""
            ]
          },
          "execution_count": 180,
          "metadata": {},
          "output_type": "execute_result"
        }
      ],
      "source": [
        "\"\"\"\n",
        "if run.status == 'completed': \n",
        "  messages = client.beta.threads.messages.list(\n",
        "    thread_id=thread.id\n",
        "  )\n",
        "  print(messages)\n",
        "else:\n",
        "  print(run.status)\n",
        "\"\"\""
      ]
    },
    {
      "cell_type": "code",
      "execution_count": 181,
      "metadata": {
        "colab": {
          "base_uri": "https://localhost:8080/"
        },
        "id": "QAAkOi8g8SYp",
        "outputId": "d9260b3b-6ee4-4101-f04e-6a2338b7b2aa"
      },
      "outputs": [
        {
          "name": "stdout",
          "output_type": "stream",
          "text": [
            "[Message(id='msg_DK9074gkvN0koiBZ2Fh8pCJy', assistant_id='asst_8phupECTtHyRHrPzTlQHScQZ', attachments=[Attachment(file_id='file-Ad6E6gBQxoOgg8ucQEA5LHXA', tools=[CodeInterpreterTool(type='code_interpreter')])], completed_at=None, content=[ImageFileContentBlock(image_file=ImageFile(file_id='file-ie5gJxvDBtCUEKWrZp0NK4eY', detail=None), type='image_file'), TextContentBlock(text=Text(annotations=[FilePathAnnotation(end_index=152, file_path=FilePath(file_id='file-Ad6E6gBQxoOgg8ucQEA5LHXA'), start_index=121, text='sandbox:/mnt/data/my-image3.png', type='file_path')], value='The graph has been created and saved successfully. You can download the file using the link below:\\n\\n[Download the graph](sandbox:/mnt/data/my-image3.png)'), type='text')], created_at=1717856875, incomplete_at=None, incomplete_details=None, metadata={}, object='thread.message', role='assistant', run_id='run_2hH85ttOGf1VLOeAu3BMlDta', status=None, thread_id='thread_UitEqs6R1OBp5E32vEaNY0EQ'), Message(id='msg_QyRFg30WEoAxBSJbjJGzKqbD', assistant_id=None, attachments=[Attachment(file_id='file-8XwqMOlaH6hoKEEKOYXPYqTh', tools=[CodeInterpreterTool(type='code_interpreter')])], completed_at=None, content=[TextContentBlock(text=Text(annotations=[], value=\"Using the csv file attached, display a graph of 'Year' against all other columns. Only chart the figures for the 21st century\"), type='text')], created_at=1717856861, incomplete_at=None, incomplete_details=None, metadata={}, object='thread.message', role='user', run_id=None, status=None, thread_id='thread_UitEqs6R1OBp5E32vEaNY0EQ')]\n"
          ]
        }
      ],
      "source": [
        "print(client.beta.threads.messages.list(thread.id).data)"
      ]
    },
    {
      "cell_type": "code",
      "execution_count": 182,
      "metadata": {
        "id": "4RLlfieUcZA5"
      },
      "outputs": [],
      "source": [
        "filelist = client.files.list(purpose=\"assistants_output\")"
      ]
    },
    {
      "cell_type": "code",
      "execution_count": 183,
      "metadata": {
        "id": "iVXKbRpXg2sJ"
      },
      "outputs": [],
      "source": [
        "image_list = [x for x in filelist.data if image_file_name in x.filename]"
      ]
    },
    {
      "cell_type": "code",
      "execution_count": 184,
      "metadata": {},
      "outputs": [
        {
          "data": {
            "text/plain": [
              "FileObject(id='file-Ad6E6gBQxoOgg8ucQEA5LHXA', bytes=149936, created_at=1717856876, filename='/mnt/data/my-image3.png', object='file', purpose='assistants_output', status='processed', status_details=None)"
            ]
          },
          "execution_count": 184,
          "metadata": {},
          "output_type": "execute_result"
        }
      ],
      "source": [
        "image_list[0]"
      ]
    },
    {
      "cell_type": "code",
      "execution_count": 185,
      "metadata": {
        "id": "Qsj5O6ANhj_r"
      },
      "outputs": [],
      "source": [
        "id = image_list[0].id # the last in the list is the latest"
      ]
    },
    {
      "cell_type": "code",
      "execution_count": 186,
      "metadata": {
        "colab": {
          "base_uri": "https://localhost:8080/",
          "height": 36
        },
        "id": "Ixkef7F3gcZB",
        "outputId": "473471b6-f71f-4198-d868-89a26ad47d6f"
      },
      "outputs": [
        {
          "data": {
            "text/plain": [
              "'file-Ad6E6gBQxoOgg8ucQEA5LHXA'"
            ]
          },
          "execution_count": 186,
          "metadata": {},
          "output_type": "execute_result"
        }
      ],
      "source": [
        "id\n",
        "#file-mXxnpTb8tbE7Jv1tPErOd85v\n"
      ]
    },
    {
      "cell_type": "code",
      "execution_count": 187,
      "metadata": {
        "colab": {
          "base_uri": "https://localhost:8080/"
        },
        "id": "tLxcY_j1duaJ",
        "outputId": "0c0c4ca8-b334-4a59-da08-ff83f3ace66a"
      },
      "outputs": [
        {
          "data": {
            "text/plain": [
              "FileObject(id='file-Ad6E6gBQxoOgg8ucQEA5LHXA', bytes=149936, created_at=1717856876, filename='/mnt/data/my-image3.png', object='file', purpose='assistants_output', status='processed', status_details=None)"
            ]
          },
          "execution_count": 187,
          "metadata": {},
          "output_type": "execute_result"
        }
      ],
      "source": [
        "client.files.retrieve(id)"
      ]
    },
    {
      "cell_type": "code",
      "execution_count": 188,
      "metadata": {},
      "outputs": [
        {
          "data": {
            "text/plain": [
              "<openai._legacy_response.HttpxBinaryResponseContent at 0x207f6cf5f10>"
            ]
          },
          "execution_count": 188,
          "metadata": {},
          "output_type": "execute_result"
        }
      ],
      "source": [
        "client.files.content(id)"
      ]
    },
    {
      "cell_type": "code",
      "execution_count": 189,
      "metadata": {
        "id": "zRxUxx2kT2F9"
      },
      "outputs": [],
      "source": [
        "image_data = client.files.content(id)\n",
        "image_data_bytes = image_data.read()\n",
        "\n",
        "with open(f\"./{image_file_name}\", \"wb\") as file:\n",
        "    file.write(image_data_bytes)\n"
      ]
    },
    {
      "cell_type": "markdown",
      "metadata": {},
      "source": [
        "![](my-image2.png)"
      ]
    },
    {
      "cell_type": "markdown",
      "metadata": {},
      "source": [
        "![](my-image3.png)"
      ]
    }
  ],
  "metadata": {
    "colab": {
      "provenance": []
    },
    "kernelspec": {
      "display_name": "Python 3",
      "name": "python3"
    },
    "language_info": {
      "codemirror_mode": {
        "name": "ipython",
        "version": 3
      },
      "file_extension": ".py",
      "mimetype": "text/x-python",
      "name": "python",
      "nbconvert_exporter": "python",
      "pygments_lexer": "ipython3",
      "version": "3.11.9"
    }
  },
  "nbformat": 4,
  "nbformat_minor": 0
}
